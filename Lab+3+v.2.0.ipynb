{
 "cells": [
  {
   "cell_type": "markdown",
   "metadata": {},
   "source": [
    "Buble"
   ]
  },
  {
   "cell_type": "code",
   "execution_count": 13,
   "metadata": {},
   "outputs": [
    {
     "name": "stdout",
     "output_type": "stream",
     "text": [
      "[0, 2, 4, 5, 6, 7, 8, 9]\n"
     ]
    }
   ],
   "source": [
    "li = [5,2,7,4,0,9,8,6] \n",
    "n = 1 \n",
    "while n < len(li):\n",
    "     for i in range(len(li)-n):\n",
    "          if li[i] > li[i+1]:\n",
    "               li[i],li[i+1] = li[i+1],li[i]\n",
    "     n += 1\n",
    "print(li)"
   ]
  },
  {
   "cell_type": "markdown",
   "metadata": {},
   "source": [
    "insSort"
   ]
  },
  {
   "cell_type": "code",
   "execution_count": 14,
   "metadata": {},
   "outputs": [
    {
     "name": "stdout",
     "output_type": "stream",
     "text": [
      "[1, 3, 4, 5, 12, 18, 21, 25, 33, 90]\n"
     ]
    }
   ],
   "source": [
    "s = [3,12,4,1,5,90,25,21,33,18]\n",
    "def insSort(s):\n",
    "    for i in range(1, len(s)):\n",
    "        while i > 0 and s[i] < s[i - 1]:\n",
    "            s[i], s[i - 1] = s[i - 1], s[i]\n",
    "            i -= 1\n",
    "insSort(s)\n",
    "print(s)"
   ]
  },
  {
   "cell_type": "markdown",
   "metadata": {},
   "source": [
    "qSort"
   ]
  },
  {
   "cell_type": "code",
   "execution_count": 45,
   "metadata": {},
   "outputs": [
    {
     "data": {
      "text/plain": [
       "[0, 6, 15, 19, 20, 41, 54]"
      ]
     },
     "execution_count": 45,
     "metadata": {},
     "output_type": "execute_result"
    }
   ],
   "source": [
    "def qSort(newList):\n",
    "     qSortHelper(newList,0,(newList)-1)\n",
    "\n",
    "def qSortHelper(newList,fobject,lobject):\n",
    "       if fobject < lobject:\n",
    "               splitpoint = partition(newList,fobject,lobject)\n",
    "               qSortHelper(newList,fobject,(splitpoint) - 1)\n",
    "               qSortHelper(newList,splitpoint,lobject)\n",
    "def algorithm(newList, fobject,lobject):\n",
    "    pivotv = newList[fobject]\n",
    "    i = fobject - 1\n",
    "    j = lobject + 1\n",
    "    \n",
    "    while newList[i] < pivotv:\n",
    "                i += 1\n",
    "    while newList[j] > pivotv:\n",
    "                j -= 1\n",
    "    if i >= j:\n",
    "        return j\n",
    "    \n",
    "    swap0(newList[i],newList[j])\n",
    "                \n",
    "newList = [54,20,41,19,15,0,6]\n",
    "qsort(newList)"
   ]
  },
  {
   "cell_type": "code",
   "execution_count": null,
   "metadata": {},
   "outputs": [],
   "source": [
    "newList = [54,20,41,19,15,0,6]\n",
    "def qsort(newList):\n",
    "    if newList: return qsort([x for x in newList if x<newList[0]]) + [x for x in newList if x==newList[0]] + qsort([x for x in newList if x>newList[0]])\n",
    "    return []      \n",
    "qsort(newList)"
   ]
  },
  {
   "cell_type": "code",
   "execution_count": null,
   "metadata": {},
   "outputs": [],
   "source": []
  },
  {
   "cell_type": "code",
   "execution_count": null,
   "metadata": {},
   "outputs": [],
   "source": []
  },
  {
   "cell_type": "code",
   "execution_count": null,
   "metadata": {},
   "outputs": [],
   "source": []
  },
  {
   "cell_type": "code",
   "execution_count": null,
   "metadata": {},
   "outputs": [],
   "source": []
  },
  {
   "cell_type": "code",
   "execution_count": null,
   "metadata": {},
   "outputs": [],
   "source": []
  },
  {
   "cell_type": "code",
   "execution_count": null,
   "metadata": {},
   "outputs": [],
   "source": []
  }
 ],
 "metadata": {
  "kernelspec": {
   "display_name": "Python 3",
   "language": "python",
   "name": "python3"
  },
  "language_info": {
   "codemirror_mode": {
    "name": "ipython",
    "version": 3
   },
   "file_extension": ".py",
   "mimetype": "text/x-python",
   "name": "python",
   "nbconvert_exporter": "python",
   "pygments_lexer": "ipython3",
   "version": "3.6.2"
  }
 },
 "nbformat": 4,
 "nbformat_minor": 2
}
