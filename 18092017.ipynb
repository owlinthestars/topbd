{
 "cells": [
  {
   "cell_type": "code",
   "execution_count": 1,
   "metadata": {},
   "outputs": [
    {
     "name": "stdout",
     "output_type": "stream",
     "text": [
      "ntim\n"
     ]
    }
   ],
   "source": [
    "str = 'imagination'\n",
    "print(str[::-3])"
   ]
  },
  {
   "cell_type": "markdown",
   "metadata": {},
   "source": [
    "print(str*111)"
   ]
  },
  {
   "cell_type": "code",
   "execution_count": 2,
   "metadata": {},
   "outputs": [
    {
     "name": "stdout",
     "output_type": "stream",
     "text": [
      "imaginationimaginationimaginationimaginationimaginationimaginationimaginationimaginationimaginationimaginationimagination\n"
     ]
    }
   ],
   "source": [
    "str = 'imagination'\n",
    "print(str*11)"
   ]
  },
  {
   "cell_type": "markdown",
   "metadata": {},
   "source": [
    "Input\n",
    "\n"
   ]
  },
  {
   "cell_type": "code",
   "execution_count": 13,
   "metadata": {},
   "outputs": [
    {
     "name": "stdout",
     "output_type": "stream",
     "text": [
      "Enter float number: 12.5\n",
      "Result:  5.0\n",
      "12.5 + 12.5 = 5.000000\n",
      "12.5 + 12.5 = 5.000000\n",
      "5.0 + 5 = 12.5\n"
     ]
    }
   ],
   "source": [
    "a = input(\"Enter float number: \") \n",
    "b = (float(a)+12.5)//5 \n",
    "print(\"Result: \",b)\n",
    "print('%s + 12.5 = %f' % (a,b))\n",
    "print('%(number1)s + 12.5 = %(sum)f' % {\"number1\": a, \"sum\": b})\n",
    "print('{1} + 5 = {0}'.format(a,b))"
   ]
  },
  {
   "cell_type": "markdown",
   "metadata": {},
   "source": [
    "Razdelitel"
   ]
  },
  {
   "cell_type": "markdown",
   "metadata": {},
   "source": []
  }
 ],
 "metadata": {
  "kernelspec": {
   "display_name": "Python 3",
   "language": "python",
   "name": "python3"
  },
  "language_info": {
   "codemirror_mode": {
    "name": "ipython",
    "version": 3
   },
   "file_extension": ".py",
   "mimetype": "text/x-python",
   "name": "python",
   "nbconvert_exporter": "python",
   "pygments_lexer": "ipython3",
   "version": "3.6.2"
  }
 },
 "nbformat": 4,
 "nbformat_minor": 2
}
