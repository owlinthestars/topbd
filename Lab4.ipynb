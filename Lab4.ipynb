{
 "cells": [
  {
   "cell_type": "code",
   "execution_count": 46,
   "metadata": {},
   "outputs": [],
   "source": [
    "class DoublyLinkedList():\n",
    "    # Конструктор класса\n",
    "    def __init__(self):\n",
    "        self.first = None\n",
    "        self.last = None\n",
    "        self.length = 0\n",
    "    \n",
    "    # Имплементация метода str()\n",
    "    def __str__(self):\n",
    "        output = 'DoublyLinkedList ['\n",
    "        if self.first != None:\n",
    "            current_node = self.first\n",
    "            output += '\\n ' + str(current_node)\n",
    "            \n",
    "            while current_node.next != None:\n",
    "                current_node = current_node.next\n",
    "                output += '\\n ' + str(current_node)\n",
    "        return output + ']'\n",
    "    \n",
    "    # Имплементация метода len()\n",
    "    def __len__(self):\n",
    "        return self.length\n",
    "    \n",
    "    # Добавление нового элемента в конец списка\n",
    "    def add(self, element):\n",
    "        self.length += 1\n",
    "        if self.first == None:\n",
    "            self.first = self.last = Node(element)\n",
    "        else:\n",
    "            self.last.next = self.last = Node(element, self.last)\n",
    "            \n",
    "    # Добавление нового элемента в конце списка\n",
    "    def push(self, element):\n",
    "        self.length += 1\n",
    "        if self.first == None:\n",
    "            self.first = self.last = Node(element)\n",
    "        else:\n",
    "            self.last.next = self.last = Node(element, self.last)\n",
    "    \n",
    "    # Удаление элемента с конца списка \n",
    "    def remove(self):\n",
    "        if self.first == None:\n",
    "            print('No objects here')\n",
    "        else:\n",
    "            self.length -= 1\n",
    "            self.last = self.last.previous\n",
    "            self.last.next == None\n",
    "            \n",
    "    # Удаление элемента с начала списка \n",
    "    def pop(self):\n",
    "        if self.first == None:\n",
    "            print('No objects here')\n",
    "        else: \n",
    "            self.length -= 1\n",
    "            self.first = self.first.next\n",
    "            self.first.previous == None\n",
    "    \n",
    "            \n",
    "            "
   ]
  },
  {
   "cell_type": "code",
   "execution_count": 2,
   "metadata": {},
   "outputs": [],
   "source": [
    "class Node:\n",
    "    __FORMAT = '[Value = {0}, Previous = {1}, Next = {2}]'\n",
    "    \n",
    "    # Конструктор класса\n",
    "    def __init__(self, value = None, previous = None, next = None):\n",
    "        self.value = value\n",
    "        self.previous = previous\n",
    "        self.next = next\n",
    "    \n",
    "    # Имплементация метода str()\n",
    "    def __str__(self):        \n",
    "        def link_value(link):\n",
    "            value = None\n",
    "            if link:\n",
    "                value = link.value\n",
    "            return value\n",
    "        \n",
    "        previous = link_value(self.previous)\n",
    "        next = link_value(self.next)\n",
    "        \n",
    "        return self.__FORMAT.format(self.value, previous, next)\n"
   ]
  },
  {
   "cell_type": "code",
   "execution_count": 3,
   "metadata": {},
   "outputs": [
    {
     "name": "stdout",
     "output_type": "stream",
     "text": [
      "Тестовый список:\n",
      " DoublyLinkedList [\n",
      " [Value = 1, Previous = None, Next = 24]\n",
      " [Value = 24, Previous = 1, Next = -20]\n",
      " [Value = -20, Previous = 24, Next = None]]\n",
      "List length = 3\n"
     ]
    }
   ],
   "source": [
    "test_list = DoublyLinkedList()\n",
    "test_list.add(1)\n",
    "test_list.add(24)\n",
    "test_list.add(-20)\n",
    "print(\"Тестовый список:\\n %s\" % (test_list))\n",
    "print(\"List length = %i\" % (len(test_list)))"
   ]
  },
  {
   "cell_type": "code",
   "execution_count": 49,
   "metadata": {},
   "outputs": [
    {
     "name": "stdout",
     "output_type": "stream",
     "text": [
      "Тестовый список:\n",
      " DoublyLinkedList [\n",
      " [Value = 4, Previous = 3, Next = None]]\n",
      "List length = 1\n",
      "DoublyLinkedList [\n",
      " [Value = 4, Previous = 3, Next = None]]\n"
     ]
    }
   ],
   "source": [
    "test_list = DoublyLinkedList()\n",
    "test_list.push(3)\n",
    "test_list.push(4)\n",
    "test_list.pop()\n",
    "\n",
    "print(\"Тестовый список:\\n %s\" % (test_list))\n",
    "print(\"List length = %i\" % (len(test_list)))\n",
    "print(test_list)"
   ]
  },
  {
   "cell_type": "code",
   "execution_count": null,
   "metadata": {},
   "outputs": [],
   "source": []
  },
  {
   "cell_type": "code",
   "execution_count": null,
   "metadata": {},
   "outputs": [],
   "source": []
  },
  {
   "cell_type": "code",
   "execution_count": null,
   "metadata": {},
   "outputs": [],
   "source": []
  }
 ],
 "metadata": {
  "kernelspec": {
   "display_name": "Python 3",
   "language": "python",
   "name": "python3"
  },
  "language_info": {
   "codemirror_mode": {
    "name": "ipython",
    "version": 3
   },
   "file_extension": ".py",
   "mimetype": "text/x-python",
   "name": "python",
   "nbconvert_exporter": "python",
   "pygments_lexer": "ipython3",
   "version": "3.6.2"
  }
 },
 "nbformat": 4,
 "nbformat_minor": 2
}
