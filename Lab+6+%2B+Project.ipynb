{
 "cells": [
  {
   "cell_type": "code",
   "execution_count": 618,
   "metadata": {},
   "outputs": [
    {
     "data": {
      "image/png": "[encoded data removed]",
      "text/plain": [
       "<matplotlib.figure.Figure at 0x89c08b0>"
      ]
     },
     "metadata": {},
     "output_type": "display_data"
    }
   ],
   "source": [
    "import numpy as np\n",
    "import matplotlib.pyplot as plt\n",
    "import random\n",
    "width = 100\n",
    "height = 75\n",
    "step = 25\n",
    "\n",
    "objectsInRow = width / step * 2\n",
    "colCount = width / step + 1\n",
    "rowCount = height / step + 1\n",
    "numObjectsInRows = (width / step) * rowCount\n",
    "numObjectsInCols = (height / step) * colCount\n",
    "maxVertObjects = ((height / step) * colCount)*2 + 1\n",
    "maxHorObjects = ((width / step) * rowCount)*2 \n",
    "maxObjects = int(numObjectsInRows + numObjectsInCols)\n",
    "\n",
    "plt.rcParams[\"figure.figsize\"] = [colCount,rowCount]\n",
    "plt.gca().invert_yaxis() \n",
    "x =[]\n",
    "y = []\n",
    "\n",
    "def generateGrid():\n",
    "    for i in range(1, int(maxHorObjects), 2):\n",
    "        rowNum = i // objectsInRow\n",
    "        colNum = ((i - rowNum*objectsInRow) + 1) // 2 - 1\n",
    "        xStart = colNum * step\n",
    "        yStart = rowNum * step\n",
    "        plt.plot([xStart, (xStart+step)],[yStart, yStart], 'r')\n",
    "        plt.text(xStart+step/2, yStart, i)\n",
    "\n",
    "    for i in range(2, int(maxVertObjects), 2):\n",
    "        rowNum = (i - 1) // (objectsInRow + 2)\n",
    "        colNum = ((i - rowNum*(objectsInRow + 2)) - 2) // 2\n",
    "        xStart = colNum * step\n",
    "        yStart = rowNum * step\n",
    "        plt.plot([xStart, (xStart)],[yStart, yStart + step], 'r')\n",
    "        plt.text(xStart, yStart+step/2, i) \n",
    "\n",
    "                \n",
    "def generateNumbers(k):\n",
    "        if k % 2:\n",
    "            for i in range(1, int(maxHorObjects), 2):\n",
    "                rowNum = i // objectsInRow\n",
    "                colNum = ((i - rowNum*objectsInRow) + 1) // 2 - 1\n",
    "                xStart = colNum * step\n",
    "                yStart = rowNum * step\n",
    "                if i == k:\n",
    "                    plt.plot([xStart, (xStart+step)],[yStart, yStart], 'b')\n",
    "                    xStart = colNum * step + step\n",
    "                    if xStart == colNum * step + step:\n",
    "                        plt.plot([xStart, (xStart+step)], [yStart,yStart], 'g')\n",
    "                        plt.plot([xStart, (xStart-step)], [yStart,yStart], 'g')\n",
    "                    else:\n",
    "                        rowNum = i // objectsInRow\n",
    "                        colNum = ((i - rowNum*objectsInRow) + 1) // 2 - 1\n",
    "                        xStart = colNum * step\n",
    "                        yStart = rowNum * step\n",
    "                        plt.plot([xStart, (xStart+step)],[yStart, yStart], 'b')\n",
    "                        xStart = xStart + step\n",
    "        else:\n",
    "            for i in range(2, int(maxVertObjects), 2):\n",
    "                rowNum = (i - 1) // (objectsInRow + 2)\n",
    "                colNum = ((i - rowNum*(objectsInRow + 2)) - 2) // 2\n",
    "                xStart = colNum * step\n",
    "                yStart = rowNum * step\n",
    "                if i == k:\n",
    "                    plt.plot([xStart, xStart], [yStart, (yStart+step)], 'b')\n",
    "                    yStart = rowNum * step + step\n",
    "                    if yStart == rowNum * step + step:\n",
    "                        plt.plot([xStart, (xStart)], [yStart,(yStart+step)], 'g')\n",
    "                        plt.plot([xStart, (xStart)], [yStart,(yStart-step)], 'g')\n",
    "                        \n",
    "                    else:\n",
    "                        rowNum = (i - 1) // (objectsInRow + 2)\n",
    "                        colNum = ((i - rowNum*(objectsInRow + 2)) - 2) // 2\n",
    "                        xStart = colNum * step\n",
    "                        yStart = rowNum * step\n",
    "                        plt.plot([xStart, xStart],[yStart, yStart + step], 'b')\n",
    "                        xStart = xStart + step\n",
    "           \n",
    "\n",
    "\n",
    "    \n",
    "generateGrid()\n",
    "generateNumbers(1)\n",
    "generateNumbers(2)\n",
    "generateNumbers(21)\n",
    "generateNumbers(16)\n",
    "generateNumbers(6)\n",
    "\n",
    "plt.show()"
   ]
  },
  {
   "cell_type": "code",
   "execution_count": 603,
   "metadata": {
    "scrolled": true
   },
   "outputs": [
    {
     "data": {
      "text/plain": [
       "[]"
      ]
     },
     "execution_count": 603,
     "metadata": {},
     "output_type": "execute_result"
    }
   ],
   "source": [
    "x"
   ]
  },
  {
   "cell_type": "code",
   "execution_count": 579,
   "metadata": {},
   "outputs": [
    {
     "data": {
      "text/plain": [
       "[2]"
      ]
     },
     "execution_count": 579,
     "metadata": {},
     "output_type": "execute_result"
    }
   ],
   "source": [
    "y"
   ]
  },
  {
   "cell_type": "code",
   "execution_count": null,
   "metadata": {},
   "outputs": [],
   "source": []
  },
  {
   "cell_type": "code",
   "execution_count": 336,
   "metadata": {},
   "outputs": [],
   "source": [
    "  # k = 11\n",
    "   # if i == k:\n",
    "     #   plt.plot([xStart, (xStart+step)],[yStart, yStart], 'b')\n",
    "   # kPrev = k\n",
    "   # for j in range(1, int(maxHorObjects), 2):\n",
    "     #   k = 18\n",
    "       # if k == (kPrev + 2) or k == (kPrev-2):\n",
    "        #         plt.plot([(xStart), (xStart+step)],[yStart, yStart], 'g')"
   ]
  },
  {
   "cell_type": "code",
   "execution_count": 540,
   "metadata": {},
   "outputs": [],
   "source": [
    "#def generateNumbers(k):\n",
    "  #  j = 0\n",
    "   # while j < (width / step) * rowCount:\n",
    "    #    if k % 2:\n",
    "      #      for i in range(1, int(maxHorObjects), 2):\n",
    "      #          x = []\n",
    "        #        rowNum = i // objectsInRow\n",
    "       #         colNum = ((i - rowNum*objectsInRow) + 1) // 2 - 1\n",
    "        #        xStart = colNum * step\n",
    "        #        yStart = rowNum * step\n",
    "        #        if i == k:\n",
    "         #           plt.plot([xStart, (xStart+step)],[yStart, yStart], 'b')\n",
    "               \n",
    "       # else:\n",
    "         #   for i in range(2, int(maxVertObjects), 2):\n",
    "        #        y = []\n",
    "           #     rowNum = (i - 1) // (objectsInRow + 2)\n",
    "           #     colNum = ((i - rowNum*(objectsInRow + 2)) - 2) // 2\n",
    "             #   xStart = colNum * step\n",
    "              #  yStart = rowNum * step\n",
    "              #  if i == k:\n",
    "                    #plt.plot([xStart, xStart], [yStart, (yStart+step)], 'b')\n",
    "                \n",
    "       # k = k + 2\n",
    "       # j+=1"
   ]
  },
  {
   "cell_type": "code",
   "execution_count": null,
   "metadata": {},
   "outputs": [],
   "source": []
  },
  {
   "cell_type": "code",
   "execution_count": null,
   "metadata": {},
   "outputs": [],
   "source": []
  },
  {
   "cell_type": "code",
   "execution_count": null,
   "metadata": {},
   "outputs": [],
   "source": []
  }
 ],
 "metadata": {
  "kernelspec": {
   "display_name": "Python 3",
   "language": "python",
   "name": "python3"
  },
  "language_info": {
   "codemirror_mode": {
    "name": "ipython",
    "version": 3
   },
   "file_extension": ".py",
   "mimetype": "text/x-python",
   "name": "python",
   "nbconvert_exporter": "python",
   "pygments_lexer": "ipython3",
   "version": "3.6.2"
  }
 },
 "nbformat": 4,
 "nbformat_minor": 2
}
