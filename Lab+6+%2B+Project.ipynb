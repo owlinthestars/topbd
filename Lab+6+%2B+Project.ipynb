{
 "cells": [
  {
   "cell_type": "code",
   "execution_count": 75,
   "metadata": {},
   "outputs": [
    {
     "data": {
      "image/png": "[encoded data removed]",
      "text/plain": [
       "<matplotlib.figure.Figure at 0x5c73e50>"
      ]
     },
     "metadata": {},
     "output_type": "display_data"
    }
   ],
   "source": [
    "import numpy as np\n",
    "import matplotlib.pyplot as plt\n",
    "width = 100\n",
    "height = 75\n",
    "step = 25\n",
    "k = 11\n",
    "objectsInRow = width / step * 2\n",
    "objectsInColumn = height / step * 2\n",
    "colCount = width / step + 1\n",
    "rowCount = height / step + 1\n",
    "maxVertObjects = ((height / step) * colCount)*2 + 1\n",
    "maxHorObjects = ((width / step) * rowCount)*2\n",
    "\n",
    "plt.rcParams[\"figure.figsize\"] = [colCount,rowCount]\n",
    "plt.gca().invert_yaxis()\n",
    "\n",
    "for i in range(1, int(maxHorObjects), 2):\n",
    "    rowNum = i // objectsInRow\n",
    "    colNum = ((i - rowNum*objectsInRow) + 1) // 2 - 1\n",
    "    xStart = colNum * step\n",
    "    yStart = rowNum * step\n",
    "    plt.plot([xStart, (xStart+step)],[yStart, yStart], 'r')\n",
    "    plt.text(xStart+step/2, yStart, i)\n",
    "    if i == k:\n",
    "         plt.plot([xStart, (xStart+step)],[yStart, yStart], 'b')\n",
    "            \n",
    "\n",
    "for i in range(2, int(maxVertObjects), 2):\n",
    "    rowNum = (i - 1) // (objectsInRow + 2)\n",
    "    colNum = ((i - rowNum*(objectsInRow + 2)) - 2) // 2\n",
    "    xStart = colNum * step\n",
    "    yStart = rowNum * step\n",
    "    plt.plot([xStart, (xStart)],[yStart, yStart + step], 'r')\n",
    "    plt.text(xStart, yStart+step/2, i)\n",
    "    if i == k:\n",
    "        plt.plot([xStart, (xStart)],[yStart, yStart + step], 'b')\n",
    "\n",
    "\n",
    "plt.show()"
   ]
  },
  {
   "cell_type": "code",
   "execution_count": null,
   "metadata": {},
   "outputs": [],
   "source": []
  },
  {
   "cell_type": "code",
   "execution_count": null,
   "metadata": {},
   "outputs": [],
   "source": []
  }
 ],
 "metadata": {
  "kernelspec": {
   "display_name": "Python 3",
   "language": "python",
   "name": "python3"
  },
  "language_info": {
   "codemirror_mode": {
    "name": "ipython",
    "version": 3
   },
   "file_extension": ".py",
   "mimetype": "text/x-python",
   "name": "python",
   "nbconvert_exporter": "python",
   "pygments_lexer": "ipython3",
   "version": "3.6.2"
  }
 },
 "nbformat": 4,
 "nbformat_minor": 2
}
